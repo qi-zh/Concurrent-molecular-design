{
 "cells": [
  {
   "cell_type": "code",
   "execution_count": 1,
   "id": "f5ed1d9f-9ec7-4add-bf40-ad793bd68f25",
   "metadata": {},
   "outputs": [],
   "source": [
    "import json\n",
    "import pathlib\n",
    "from datetime import date\n",
    "from ssr import SMC\n",
    "import pandas as pd\n",
    "\n",
    "import warnings\n",
    "warnings.filterwarnings(\"ignore\")\n",
    "\n",
    "with open(\"./setting.json\") as f:\n",
    "    variables = json.load(f)\n",
    "variables[\"model_name\"] = \"SMC-RECUR_GTM\"\n",
    "main_path = variables[\"main_path\"]\n",
    "\n",
    "variables_addition = {\n",
    "    \"initial_pool_path\": main_path + \"data/pool.csv\",\n",
    "    \"gtm_path\": main_path + \"model/GTM/enamine_gtm\",\n",
    "    \"reactor_model_path\": main_path + \"model/molecular_transformer.pt\",\n",
    "    \"sample_column\": [\n",
    "        \"reactant\",\n",
    "        \"product\",\n",
    "        \"reactant_index\",\n",
    "        \"ll\",\n",
    "        \"surrogate_ll\",\n",
    "        \"c_label\",\n",
    "        \"freq\",\n",
    "        \"target\",\n",
    "        \"surrogate_target\",\n",
    "        \"is_new\",\n",
    "    ],\n",
    "    \"surrogate_forward_model_path\": {\n",
    "        \"qed\": main_path + \"model/QSPR/reactant_qed\",\n",
    "        \"logp\": main_path + \"model/QSPR/reactant_logp\",\n",
    "    },\n",
    "    \"forward_model_path\": {\n",
    "        \"qed\": main_path + \"model/QSPR/product_qed\",\n",
    "        \"logp\": main_path + \"model/QSPR/product_logp\",\n",
    "    },\n",
    "    \"unique_col\": \"reactant_index\",\n",
    "    \"black\": \"False\",\n",
    "}\n",
    "variables.update(variables_addition)\n",
    "\n",
    "\n",
    "variables[\"experiment_date\"] = str(date.today())\n",
    "variables[\"n_r\"] = variables[\"n_r\"] + 1\n",
    "\n",
    "\n",
    "\n",
    "for i in range(variables[\"n_r\"]):\n",
    "    variables[\"sample_column\"].append(\"r\" + str(i + 1))\n",
    "    variables[\"sample_column\"].append(\"r\" + str(i + 1) + \"_id\")\n",
    "    variables[\"sample_column\"].append(\"r\" + str(i + 1) + \"_gen\")\n",
    "    if i > 0:\n",
    "        variables[\"sample_column\"].append(\"p\" + str(i))\n",
    "for y in variables[\"y_list\"]:\n",
    "    variables[\"sample_column\"].append(y)\n",
    "    variables[\"sample_column\"].append(\"surrogate_\" + y)\n",
    "variables[\"generation_temperature\"] = -1 / variables[\"generation_threshold\"] * 2\n",
    "\n",
    "if variables[\"model_name\"] == \"SMC-RECUR_GTM\":\n",
    "    variables[\"SMC_reactor\"] = True\n",
    "    variables[\"surrogate\"] = False\n",
    "    variables[\"SMC_enrich\"] = True\n",
    "    variables[\"reactor_enrich\"] = False\n",
    "    variables[\"optimization\"] = True\n",
    "elif variables[\"model_name\"] == \"SMC-RECUR_GTM_SR_PL\":\n",
    "    variables[\"SMC_reactor\"] = False\n",
    "    variables[\"surrogate\"] = True\n",
    "    variables[\"SMC_enrich\"] = False\n",
    "    variables[\"reactor_enrich\"] = True\n",
    "    variables[\"optimization\"] = True\n",
    "elif variables[\"model_name\"][:-1] == \"SMC_\":\n",
    "    variables[\"SMC_reactor\"] = True\n",
    "    variables[\"surrogate\"] = False\n",
    "    variables[\"SMC_enrich\"] = False\n",
    "    variables[\"reactor_enrich\"] = False\n",
    "    variables[\"n_r\"] = int(variables[\"model_name\"][4:])\n",
    "    variables[\"optimization\"] = True\n",
    "elif variables[\"model_name\"] == \"Random\":\n",
    "    variables[\"SMC_reactor\"] = True\n",
    "    variables[\"surrogate\"] = False\n",
    "    variables[\"SMC_enrich\"] = False\n",
    "    variables[\"reactor_enrich\"] = False\n",
    "    variables[\"p_exploitation\"] = 0\n",
    "    variables[\"optimization\"] = False\n",
    "elif variables[\"model_name\"] == \"Random_RECUR\":\n",
    "    variables[\"SMC_reactor\"] = True\n",
    "    variables[\"surrogate\"] = False\n",
    "    variables[\"SMC_enrich\"] = True\n",
    "    variables[\"reactor_enrich\"] = False\n",
    "    variables[\"p_exploitation\"] = 0\n",
    "    variables[\"optimization\"] = False\n",
    "else:\n",
    "    raise Exception(\"wrong model name: {}\".format(variables[\"model_name\"]))\n",
    "\n",
    "model_result_path = (\n",
    "    main_path\n",
    "    + \"results/\"\n",
    "    + variables[\"experiment_date\"]\n",
    "    + \"/\"\n",
    "    + variables[\"model_name\"]\n",
    ")\n",
    "variables[\"model_df_path\"] = model_result_path + \"/dfs/\"\n",
    "if variables[\"reactor_enrich\"]:\n",
    "    variables[\"warehouse\"] = model_result_path + \"/warehouse\"\n",
    "    variables[\"warehouse_key\"] = variables[\"warehouse\"] + \"/key\"\n",
    "    pathlib.Path(variables[\"warehouse\"]).mkdir(parents=True, exist_ok=True)\n",
    "    open(variables[\"warehouse_key\"], \"a\").close()\n",
    "    variables[\"pool_folder\"] = model_result_path + \"/pool_folder\"\n",
    "    variables[\"pool_folder_key\"] = variables[\"pool_folder\"] + \"/key\"\n",
    "    variables[\"pool_updated_marker\"] = variables[\"pool_folder\"] + \"/updated_marker\"\n",
    "    variables[\"pool_updated_path\"] = variables[\"pool_folder\"] + \"/updated_pool.csv\"\n",
    "    pathlib.Path(variables[\"pool_folder\"]).mkdir(parents=True, exist_ok=True)\n",
    "    pathlib.Path(variables[\"pool_folder\"] + \"/addition\").mkdir(\n",
    "        parents=True, exist_ok=True\n",
    "    )\n",
    "    open(variables[\"pool_folder_key\"], \"a\").close()\n"
   ]
  },
  {
   "cell_type": "code",
   "execution_count": 2,
   "id": "1f473552-5d81-41c1-8858-1a4ebac37de3",
   "metadata": {},
   "outputs": [
    {
     "name": "stdout",
     "output_type": "stream",
     "text": [
      "SMC: initial pool size: 150549\n"
     ]
    }
   ],
   "source": [
    "initial_reactant_pool = pd.read_csv(variables[\"initial_pool_path\"])\n",
    "print(\"SMC: initial pool size: {}\".format(initial_reactant_pool.shape[0]))"
   ]
  },
  {
   "cell_type": "code",
   "execution_count": 4,
   "id": "c22c6d1f-6720-49ba-a603-34a7345738de",
   "metadata": {},
   "outputs": [],
   "source": [
    "import random\n",
    "class dummy_MolecularTransformer:\n",
    "    def react(self, reactant_list):\n",
    "        product_list = [random.choice(R.split(\".\")) for R in reactant_list]\n",
    "        return product_list    "
   ]
  },
  {
   "cell_type": "code",
   "execution_count": 5,
   "id": "ad87876a-f693-46b7-aaa5-6ba32b02a966",
   "metadata": {},
   "outputs": [],
   "source": [
    "reactor = dummy_MolecularTransformer()"
   ]
  },
  {
   "cell_type": "code",
   "execution_count": 6,
   "id": "69021b29-65a2-4e9c-802e-8ff01f878f42",
   "metadata": {},
   "outputs": [],
   "source": [
    "SMC_instance = SMC(variables=variables, pool=initial_reactant_pool, reactor=reactor)\n"
   ]
  },
  {
   "cell_type": "code",
   "execution_count": 7,
   "id": "7c34dfc7-8e88-4192-bd9e-701677ceffc8",
   "metadata": {},
   "outputs": [
    {
     "name": "stdout",
     "output_type": "stream",
     "text": [
      "QSPR by RDKit\n"
     ]
    },
    {
     "name": "stderr",
     "output_type": "stream",
     "text": [
      "RDKit ERROR: [17:38:18] Explicit valence for atom # 17 O, 3, is greater than permitted\n",
      "RDKit ERROR: [17:38:18] Can't kekulize mol.  Unkekulized atoms: 1 2 3 5 16 17 28 29 30\n",
      "RDKit ERROR: \n",
      "RDKit ERROR: [17:38:18] SMILES Parse Error: extra open parentheses for input: 'C#CCCCCCN(Cc1nc(CC(C)C)no1)C(C(=O)NC[C@@H](CC(=O)O)CC(C)C'\n",
      "RDKit ERROR: [17:38:18] SMILES Parse Error: extra close parentheses while parsing: C[C@H]1CNC(=O)C2(CC=CCN3CC4CC(C3)S4(=O)=O)CCCC2)C1\n",
      "RDKit ERROR: [17:38:18] \n",
      "RDKit ERROR: \n",
      "RDKit ERROR: ****\n",
      "RDKit ERROR: Pre-condition Violation\n",
      "RDKit ERROR: no atoms\n",
      "RDKit ERROR: Violation occurred on line 179 in file /home/conda/feedstock_root/build_artifacts/rdkit_1588588730082/work/Code/GraphMol/ROMol.cpp\n",
      "RDKit ERROR: Failed Expression: getNumAtoms() > 0\n",
      "RDKit ERROR: ****\n",
      "RDKit ERROR: \n",
      "RDKit ERROR: [17:38:18] SMILES Parse Error: extra open parentheses for input: 'Cc1ccc(NC(=O)c2ccc(NC(=O)c3ccc(COC(=O)c4ccc5c(c4)C(CNC(=O)OCC4c5ccccc5-c5ccccc54)cc3)nc2)cc1'\n",
      "RDKit ERROR: [17:38:18] Can't kekulize mol.  Unkekulized atoms: 5 6 20\n",
      "RDKit ERROR: \n",
      "RDKit ERROR: [17:38:18] SMILES Parse Error: unclosed ring for input: 'CC(C)N1CC2CCCC(C1)C(O)(c1ccc(OC(=O)c3cccnc3)cc1)c1nc2cc(F)ccc2o1'\n",
      "RDKit ERROR: [17:38:18] SMILES Parse Error: unclosed ring for input: 'Cn1nc2c(=O)n3ncc(NC4CCCC4)c3c1Oc1cccc(CNC(=O)OC(C)(C)C)c1F'\n",
      "RDKit ERROR: [17:38:18] SMILES Parse Error: unclosed ring for input: 'COC(=O)c1ccc(C(F)(F)F)nc1N1CC2CCC(C1)C2CN(C(=O)CSc1nnc(Nc2cccc(C)c2)s1)C2'\n",
      "RDKit ERROR: [17:38:18] Can't kekulize mol.  Unkekulized atoms: 32 33 34 36 37 38 42 44 45 46 72 73 74\n",
      "RDKit ERROR: \n"
     ]
    },
    {
     "name": "stdout",
     "output_type": "stream",
     "text": [
      "QSPR by RDKit\n"
     ]
    },
    {
     "name": "stderr",
     "output_type": "stream",
     "text": [
      "RDKit ERROR: [17:38:38] Can't kekulize mol.  Unkekulized atoms: 1 2 9\n",
      "RDKit ERROR: \n",
      "RDKit ERROR: [17:38:38] SMILES Parse Error: unclosed ring for input: 'CCc1ccc2ccnc(NCc3cccc(C(=O)NCC4(O)C5C6CC6C7CC6C7C6C6C5C65)c3)c2c1'\n",
      "RDKit ERROR: [17:38:38] SMILES Parse Error: unclosed ring for input: 'COc1cc2c(Oc3ccc4c(c3)OC3(CCC(C)CC3)CC4(O)c3ccc(O)cc3O4)ccnc2cc1F'\n"
     ]
    },
    {
     "name": "stdout",
     "output_type": "stream",
     "text": [
      "SMC: pool size 150549 -> 150741\n",
      "SMC: Step 0, target 50, new target 50, max rgen 1\n",
      "QSPR by RDKit\n"
     ]
    },
    {
     "name": "stderr",
     "output_type": "stream",
     "text": [
      "RDKit ERROR: [17:38:59] SMILES Parse Error: unclosed ring for input: 'CC(C)(C)OC(=O)N1c2ccccc2C(NC(=S)N(C)C)C12CC3CC(CC(C3)C1)C2'\n",
      "RDKit ERROR: [17:38:59] SMILES Parse Error: extra close parentheses while parsing: CC1(C)Cn2c(C3CCCN(S(=O)(=O)c4ccccc4)C3)nc3c(c2=O)CCC3)O1\n",
      "RDKit ERROR: [17:38:59] \n",
      "RDKit ERROR: \n",
      "RDKit ERROR: ****\n",
      "RDKit ERROR: Pre-condition Violation\n",
      "RDKit ERROR: no atoms\n",
      "RDKit ERROR: Violation occurred on line 179 in file /home/conda/feedstock_root/build_artifacts/rdkit_1588588730082/work/Code/GraphMol/ROMol.cpp\n",
      "RDKit ERROR: Failed Expression: getNumAtoms() > 0\n",
      "RDKit ERROR: ****\n",
      "RDKit ERROR: \n",
      "RDKit ERROR: [17:38:59] SMILES Parse Error: unclosed ring for input: 'CN(CCCC12CCC(c3ccccc31)c1ccc(OC(F)(F)F)c(Cl)c1)C(=O)N1CC(C)(C2CC2)C1'\n",
      "RDKit ERROR: [17:38:59] Can't kekulize mol.  Unkekulized atoms: 22 23 27 37 38\n",
      "RDKit ERROR: \n",
      "RDKit ERROR: [17:38:59] SMILES Parse Error: unclosed ring for input: 'CNS(=O)(=O)c1cccc(N2C(=O)CN(C(C)CN3CCOCC3)C3CSC3)c1'\n"
     ]
    },
    {
     "name": "stdout",
     "output_type": "stream",
     "text": [
      "SMC: pool size 150741 -> 150923\n",
      "SMC: Step 1, target 62, new target 60, max rgen 1\n"
     ]
    },
    {
     "ename": "KeyboardInterrupt",
     "evalue": "",
     "output_type": "error",
     "traceback": [
      "\u001b[0;31m---------------------------------------------------------------------------\u001b[0m",
      "\u001b[0;31mKeyboardInterrupt\u001b[0m                         Traceback (most recent call last)",
      "\u001b[0;32m<ipython-input-7-387692b97328>\u001b[0m in \u001b[0;36m<module>\u001b[0;34m()\u001b[0m\n\u001b[0;32m----> 1\u001b[0;31m \u001b[0mSMC_instance\u001b[0m\u001b[0;34m(\u001b[0m\u001b[0;34m)\u001b[0m\u001b[0;34m\u001b[0m\u001b[0;34m\u001b[0m\u001b[0m\n\u001b[0m",
      "\u001b[0;32m/home/qiz/Code/SSR/ssr/smc.py\u001b[0m in \u001b[0;36m__call__\u001b[0;34m(self)\u001b[0m\n\u001b[1;32m    277\u001b[0m             \u001b[0mstart\u001b[0m \u001b[0;34m=\u001b[0m \u001b[0mtime\u001b[0m\u001b[0;34m.\u001b[0m\u001b[0mtime\u001b[0m\u001b[0;34m(\u001b[0m\u001b[0;34m)\u001b[0m\u001b[0;34m\u001b[0m\u001b[0;34m\u001b[0m\u001b[0m\n\u001b[1;32m    278\u001b[0m             \u001b[0mX\u001b[0m \u001b[0;34m=\u001b[0m \u001b[0mself\u001b[0m\u001b[0;34m.\u001b[0m\u001b[0msingle_step\u001b[0m\u001b[0;34m(\u001b[0m\u001b[0mX\u001b[0m\u001b[0;34m,\u001b[0m \u001b[0mt\u001b[0m\u001b[0;34m)\u001b[0m\u001b[0;34m\u001b[0m\u001b[0;34m\u001b[0m\u001b[0m\n\u001b[0;32m--> 279\u001b[0;31m             \u001b[0mtime_cost\u001b[0m \u001b[0;34m=\u001b[0m \u001b[0mtime\u001b[0m\u001b[0;34m.\u001b[0m\u001b[0mtime\u001b[0m\u001b[0;34m(\u001b[0m\u001b[0;34m)\u001b[0m \u001b[0;34m-\u001b[0m \u001b[0mstart\u001b[0m\u001b[0;34m\u001b[0m\u001b[0;34m\u001b[0m\u001b[0m\n\u001b[0m\u001b[1;32m    280\u001b[0m             \u001b[0mself\u001b[0m\u001b[0;34m.\u001b[0m\u001b[0msave_time\u001b[0m\u001b[0;34m(\u001b[0m\u001b[0mt\u001b[0m\u001b[0;34m,\u001b[0m \u001b[0mtime_cost\u001b[0m\u001b[0;34m)\u001b[0m\u001b[0;34m\u001b[0m\u001b[0;34m\u001b[0m\u001b[0m\n\u001b[1;32m    281\u001b[0m             \u001b[0mX_target\u001b[0m \u001b[0;34m=\u001b[0m \u001b[0mX\u001b[0m\u001b[0;34m.\u001b[0m\u001b[0mloc\u001b[0m\u001b[0;34m[\u001b[0m\u001b[0mX\u001b[0m\u001b[0;34m[\u001b[0m\u001b[0mself\u001b[0m\u001b[0;34m.\u001b[0m\u001b[0m_prefix\u001b[0m \u001b[0;34m+\u001b[0m \u001b[0;34m\"target\"\u001b[0m\u001b[0;34m]\u001b[0m \u001b[0;34m==\u001b[0m \u001b[0;36m0\u001b[0m\u001b[0;34m]\u001b[0m\u001b[0;34m\u001b[0m\u001b[0;34m\u001b[0m\u001b[0m\n",
      "\u001b[0;32m/home/qiz/Code/SSR/ssr/smc.py\u001b[0m in \u001b[0;36msingle_step\u001b[0;34m(self, X, t)\u001b[0m\n\u001b[1;32m    255\u001b[0m         \u001b[0mX\u001b[0m \u001b[0;34m=\u001b[0m \u001b[0mself\u001b[0m\u001b[0;34m.\u001b[0m\u001b[0munique\u001b[0m\u001b[0;34m(\u001b[0m\u001b[0mX\u001b[0m\u001b[0;34m)\u001b[0m\u001b[0;34m\u001b[0m\u001b[0;34m\u001b[0m\u001b[0m\n\u001b[1;32m    256\u001b[0m         \u001b[0mX\u001b[0m \u001b[0;34m=\u001b[0m \u001b[0mself\u001b[0m\u001b[0;34m.\u001b[0m\u001b[0mreact\u001b[0m\u001b[0;34m(\u001b[0m\u001b[0mX\u001b[0m\u001b[0;34m)\u001b[0m\u001b[0;34m\u001b[0m\u001b[0;34m\u001b[0m\u001b[0m\n\u001b[0;32m--> 257\u001b[0;31m         \u001b[0mX\u001b[0m\u001b[0;34m,\u001b[0m \u001b[0mX_fp\u001b[0m \u001b[0;34m=\u001b[0m \u001b[0mself\u001b[0m\u001b[0;34m.\u001b[0m\u001b[0m_estimator\u001b[0m\u001b[0;34m.\u001b[0m\u001b[0mpredict\u001b[0m\u001b[0;34m(\u001b[0m\u001b[0mX\u001b[0m\u001b[0;34m)\u001b[0m\u001b[0;34m\u001b[0m\u001b[0;34m\u001b[0m\u001b[0m\n\u001b[0m\u001b[1;32m    258\u001b[0m         \u001b[0mX\u001b[0m \u001b[0;34m=\u001b[0m \u001b[0mself\u001b[0m\u001b[0;34m.\u001b[0m\u001b[0mcompute_likelihood\u001b[0m\u001b[0;34m(\u001b[0m\u001b[0mX\u001b[0m\u001b[0;34m)\u001b[0m\u001b[0;34m\u001b[0m\u001b[0;34m\u001b[0m\u001b[0m\n\u001b[1;32m    259\u001b[0m         \u001b[0mX\u001b[0m \u001b[0;34m=\u001b[0m \u001b[0mself\u001b[0m\u001b[0;34m.\u001b[0m\u001b[0min_black\u001b[0m\u001b[0;34m(\u001b[0m\u001b[0mX\u001b[0m\u001b[0;34m)\u001b[0m\u001b[0;34m\u001b[0m\u001b[0;34m\u001b[0m\u001b[0m\n",
      "\u001b[0;32m/home/qiz/Code/SSR/ssr/smc.py\u001b[0m in \u001b[0;36mreact\u001b[0;34m(self, X)\u001b[0m\n\u001b[1;32m    107\u001b[0m         \u001b[0;32mif\u001b[0m \u001b[0mself\u001b[0m\u001b[0;34m.\u001b[0m\u001b[0m_variables\u001b[0m\u001b[0;34m[\u001b[0m\u001b[0;34m\"SMC_reactor\"\u001b[0m\u001b[0;34m]\u001b[0m\u001b[0;34m:\u001b[0m\u001b[0;34m\u001b[0m\u001b[0;34m\u001b[0m\u001b[0m\n\u001b[1;32m    108\u001b[0m             \u001b[0mX\u001b[0m \u001b[0;34m=\u001b[0m \u001b[0mself\u001b[0m\u001b[0;34m.\u001b[0m\u001b[0m_reactor\u001b[0m\u001b[0;34m.\u001b[0m\u001b[0mreact\u001b[0m\u001b[0;34m(\u001b[0m\u001b[0mX\u001b[0m\u001b[0;34m)\u001b[0m\u001b[0;34m\u001b[0m\u001b[0;34m\u001b[0m\u001b[0m\n\u001b[0;32m--> 109\u001b[0;31m         \u001b[0;32mreturn\u001b[0m \u001b[0mX\u001b[0m\u001b[0;34m\u001b[0m\u001b[0;34m\u001b[0m\u001b[0m\n\u001b[0m\u001b[1;32m    110\u001b[0m \u001b[0;34m\u001b[0m\u001b[0m\n\u001b[1;32m    111\u001b[0m     \u001b[0;32mdef\u001b[0m \u001b[0mcompute_likelihood\u001b[0m\u001b[0;34m(\u001b[0m\u001b[0mself\u001b[0m\u001b[0;34m,\u001b[0m \u001b[0mX\u001b[0m\u001b[0;34m)\u001b[0m\u001b[0;34m:\u001b[0m\u001b[0;34m\u001b[0m\u001b[0;34m\u001b[0m\u001b[0m\n",
      "\u001b[0;32m/home/qiz/Code/SSR/ssr/reactor.py\u001b[0m in \u001b[0;36mreact\u001b[0;34m(self, x)\u001b[0m\n\u001b[1;32m     47\u001b[0m                 ]\n\u001b[1;32m     48\u001b[0m \u001b[0;34m\u001b[0m\u001b[0m\n\u001b[0;32m---> 49\u001b[0;31m             \u001b[0mx\u001b[0m\u001b[0;34m[\u001b[0m\u001b[0;34m\"p\"\u001b[0m \u001b[0;34m+\u001b[0m \u001b[0mstr\u001b[0m\u001b[0;34m(\u001b[0m\u001b[0mi\u001b[0m \u001b[0;34m+\u001b[0m \u001b[0;36m1\u001b[0m\u001b[0;34m)\u001b[0m\u001b[0;34m]\u001b[0m \u001b[0;34m=\u001b[0m \u001b[0mself\u001b[0m\u001b[0;34m.\u001b[0m\u001b[0m_reactor\u001b[0m\u001b[0;34m.\u001b[0m\u001b[0mreact\u001b[0m\u001b[0;34m(\u001b[0m\u001b[0mreactant_list\u001b[0m\u001b[0;34m)\u001b[0m\u001b[0;34m\u001b[0m\u001b[0;34m\u001b[0m\u001b[0m\n\u001b[0m\u001b[1;32m     50\u001b[0m             \u001b[0mtorch\u001b[0m\u001b[0;34m.\u001b[0m\u001b[0mcuda\u001b[0m\u001b[0;34m.\u001b[0m\u001b[0mempty_cache\u001b[0m\u001b[0;34m(\u001b[0m\u001b[0;34m)\u001b[0m\u001b[0;34m\u001b[0m\u001b[0;34m\u001b[0m\u001b[0m\n\u001b[1;32m     51\u001b[0m         \u001b[0mx\u001b[0m\u001b[0;34m[\u001b[0m\u001b[0;34m\"product\"\u001b[0m\u001b[0;34m]\u001b[0m \u001b[0;34m=\u001b[0m \u001b[0mx\u001b[0m\u001b[0;34m[\u001b[0m\u001b[0;34m\"p\"\u001b[0m \u001b[0;34m+\u001b[0m \u001b[0mstr\u001b[0m\u001b[0;34m(\u001b[0m\u001b[0mself\u001b[0m\u001b[0;34m.\u001b[0m\u001b[0m_variables\u001b[0m\u001b[0;34m[\u001b[0m\u001b[0;34m\"n_r\"\u001b[0m\u001b[0;34m]\u001b[0m \u001b[0;34m-\u001b[0m \u001b[0;36m1\u001b[0m\u001b[0;34m)\u001b[0m\u001b[0;34m]\u001b[0m\u001b[0;34m\u001b[0m\u001b[0;34m\u001b[0m\u001b[0m\n",
      "\u001b[0;32m/home/qiz/Code/SSR/ssr/load_reactor.py\u001b[0m in \u001b[0;36mreact\u001b[0;34m(self, reactant_list, batch_size)\u001b[0m\n\u001b[1;32m     68\u001b[0m         \u001b[0mreactant_token_list\u001b[0m \u001b[0;34m=\u001b[0m \u001b[0;34m[\u001b[0m\u001b[0msmi_tokenizer\u001b[0m\u001b[0;34m(\u001b[0m\u001b[0ms\u001b[0m\u001b[0;34m)\u001b[0m \u001b[0;32mfor\u001b[0m \u001b[0ms\u001b[0m \u001b[0;32min\u001b[0m \u001b[0mreactant_list\u001b[0m\u001b[0;34m]\u001b[0m\u001b[0;34m\u001b[0m\u001b[0;34m\u001b[0m\u001b[0m\n\u001b[1;32m     69\u001b[0m         _, product_list = self._model.translate(\n\u001b[0;32m---> 70\u001b[0;31m             \u001b[0msrc\u001b[0m\u001b[0;34m=\u001b[0m\u001b[0mreactant_token_list\u001b[0m\u001b[0;34m,\u001b[0m \u001b[0msrc_dir\u001b[0m\u001b[0;34m=\u001b[0m\u001b[0;34m\"\"\u001b[0m\u001b[0;34m,\u001b[0m \u001b[0mbatch_size\u001b[0m\u001b[0;34m=\u001b[0m\u001b[0mbatch_size\u001b[0m\u001b[0;34m,\u001b[0m \u001b[0mattn_debug\u001b[0m\u001b[0;34m=\u001b[0m\u001b[0;32mFalse\u001b[0m\u001b[0;34m\u001b[0m\u001b[0;34m\u001b[0m\u001b[0m\n\u001b[0m\u001b[1;32m     71\u001b[0m         )\n\u001b[1;32m     72\u001b[0m         \u001b[0mproduct_list\u001b[0m \u001b[0;34m=\u001b[0m \u001b[0;34m[\u001b[0m\u001b[0ms\u001b[0m\u001b[0;34m[\u001b[0m\u001b[0;36m0\u001b[0m\u001b[0;34m]\u001b[0m\u001b[0;34m.\u001b[0m\u001b[0mreplace\u001b[0m\u001b[0;34m(\u001b[0m\u001b[0;34m\" \"\u001b[0m\u001b[0;34m,\u001b[0m \u001b[0;34m\"\"\u001b[0m\u001b[0;34m)\u001b[0m \u001b[0;32mfor\u001b[0m \u001b[0ms\u001b[0m \u001b[0;32min\u001b[0m \u001b[0mproduct_list\u001b[0m\u001b[0;34m]\u001b[0m\u001b[0;34m\u001b[0m\u001b[0;34m\u001b[0m\u001b[0m\n",
      "\u001b[0;32m/home/qiz/miniconda3/envs/xenonpy_ent/lib/python3.6/site-packages/onmt/translate/translator.py\u001b[0m in \u001b[0;36mtranslate\u001b[0;34m(self, src, tgt, src_dir, batch_size, batch_type, attn_debug, align_debug, phrase_table)\u001b[0m\n\u001b[1;32m    360\u001b[0m         \u001b[0;32mfor\u001b[0m \u001b[0mbatch\u001b[0m \u001b[0;32min\u001b[0m \u001b[0mdata_iter\u001b[0m\u001b[0;34m:\u001b[0m\u001b[0;34m\u001b[0m\u001b[0;34m\u001b[0m\u001b[0m\n\u001b[1;32m    361\u001b[0m             batch_data = self.translate_batch(\n\u001b[0;32m--> 362\u001b[0;31m                 \u001b[0mbatch\u001b[0m\u001b[0;34m,\u001b[0m \u001b[0mdata\u001b[0m\u001b[0;34m.\u001b[0m\u001b[0msrc_vocabs\u001b[0m\u001b[0;34m,\u001b[0m \u001b[0mattn_debug\u001b[0m\u001b[0;34m\u001b[0m\u001b[0;34m\u001b[0m\u001b[0m\n\u001b[0m\u001b[1;32m    363\u001b[0m             )\n\u001b[1;32m    364\u001b[0m             \u001b[0mtranslations\u001b[0m \u001b[0;34m=\u001b[0m \u001b[0mxlation_builder\u001b[0m\u001b[0;34m.\u001b[0m\u001b[0mfrom_batch\u001b[0m\u001b[0;34m(\u001b[0m\u001b[0mbatch_data\u001b[0m\u001b[0;34m)\u001b[0m\u001b[0;34m\u001b[0m\u001b[0;34m\u001b[0m\u001b[0m\n",
      "\u001b[0;32m/home/qiz/miniconda3/envs/xenonpy_ent/lib/python3.6/site-packages/onmt/translate/translator.py\u001b[0m in \u001b[0;36mtranslate_batch\u001b[0;34m(self, batch, src_vocabs, attn_debug)\u001b[0m\n\u001b[1;32m    549\u001b[0m                     ratio=self.ratio)\n\u001b[1;32m    550\u001b[0m             return self._translate_batch_with_strategy(batch, src_vocabs,\n\u001b[0;32m--> 551\u001b[0;31m                                                        decode_strategy)\n\u001b[0m\u001b[1;32m    552\u001b[0m \u001b[0;34m\u001b[0m\u001b[0m\n\u001b[1;32m    553\u001b[0m     \u001b[0;32mdef\u001b[0m \u001b[0m_run_encoder\u001b[0m\u001b[0;34m(\u001b[0m\u001b[0mself\u001b[0m\u001b[0;34m,\u001b[0m \u001b[0mbatch\u001b[0m\u001b[0;34m)\u001b[0m\u001b[0;34m:\u001b[0m\u001b[0;34m\u001b[0m\u001b[0;34m\u001b[0m\u001b[0m\n",
      "\u001b[0;32m/home/qiz/miniconda3/envs/xenonpy_ent/lib/python3.6/site-packages/onmt/translate/translator.py\u001b[0m in \u001b[0;36m_translate_batch_with_strategy\u001b[0;34m(self, batch, src_vocabs, decode_strategy)\u001b[0m\n\u001b[1;32m    679\u001b[0m                 \u001b[0msrc_map\u001b[0m\u001b[0;34m=\u001b[0m\u001b[0msrc_map\u001b[0m\u001b[0;34m,\u001b[0m\u001b[0;34m\u001b[0m\u001b[0;34m\u001b[0m\u001b[0m\n\u001b[1;32m    680\u001b[0m                 \u001b[0mstep\u001b[0m\u001b[0;34m=\u001b[0m\u001b[0mstep\u001b[0m\u001b[0;34m,\u001b[0m\u001b[0;34m\u001b[0m\u001b[0;34m\u001b[0m\u001b[0m\n\u001b[0;32m--> 681\u001b[0;31m                 batch_offset=decode_strategy.batch_offset)\n\u001b[0m\u001b[1;32m    682\u001b[0m \u001b[0;34m\u001b[0m\u001b[0m\n\u001b[1;32m    683\u001b[0m             \u001b[0mdecode_strategy\u001b[0m\u001b[0;34m.\u001b[0m\u001b[0madvance\u001b[0m\u001b[0;34m(\u001b[0m\u001b[0mlog_probs\u001b[0m\u001b[0;34m,\u001b[0m \u001b[0mattn\u001b[0m\u001b[0;34m)\u001b[0m\u001b[0;34m\u001b[0m\u001b[0;34m\u001b[0m\u001b[0m\n",
      "\u001b[0;32m/home/qiz/miniconda3/envs/xenonpy_ent/lib/python3.6/site-packages/onmt/translate/translator.py\u001b[0m in \u001b[0;36m_decode_and_generate\u001b[0;34m(self, decoder_in, memory_bank, batch, src_vocabs, memory_lengths, src_map, step, batch_offset)\u001b[0m\n\u001b[1;32m    587\u001b[0m         \u001b[0;31m# in case of Gold Scoring tgt_len = actual length, batch = 1 batch\u001b[0m\u001b[0;34m\u001b[0m\u001b[0;34m\u001b[0m\u001b[0;34m\u001b[0m\u001b[0m\n\u001b[1;32m    588\u001b[0m         dec_out, dec_attn = self.model.decoder(\n\u001b[0;32m--> 589\u001b[0;31m             \u001b[0mdecoder_in\u001b[0m\u001b[0;34m,\u001b[0m \u001b[0mmemory_bank\u001b[0m\u001b[0;34m,\u001b[0m \u001b[0mmemory_lengths\u001b[0m\u001b[0;34m=\u001b[0m\u001b[0mmemory_lengths\u001b[0m\u001b[0;34m,\u001b[0m \u001b[0mstep\u001b[0m\u001b[0;34m=\u001b[0m\u001b[0mstep\u001b[0m\u001b[0;34m\u001b[0m\u001b[0;34m\u001b[0m\u001b[0m\n\u001b[0m\u001b[1;32m    590\u001b[0m         )\n\u001b[1;32m    591\u001b[0m \u001b[0;34m\u001b[0m\u001b[0m\n",
      "\u001b[0;32m/home/qiz/miniconda3/envs/xenonpy_ent/lib/python3.6/site-packages/torch/nn/modules/module.py\u001b[0m in \u001b[0;36m_call_impl\u001b[0;34m(self, *input, **kwargs)\u001b[0m\n\u001b[1;32m    725\u001b[0m             \u001b[0mresult\u001b[0m \u001b[0;34m=\u001b[0m \u001b[0mself\u001b[0m\u001b[0;34m.\u001b[0m\u001b[0m_slow_forward\u001b[0m\u001b[0;34m(\u001b[0m\u001b[0;34m*\u001b[0m\u001b[0minput\u001b[0m\u001b[0;34m,\u001b[0m \u001b[0;34m**\u001b[0m\u001b[0mkwargs\u001b[0m\u001b[0;34m)\u001b[0m\u001b[0;34m\u001b[0m\u001b[0;34m\u001b[0m\u001b[0m\n\u001b[1;32m    726\u001b[0m         \u001b[0;32melse\u001b[0m\u001b[0;34m:\u001b[0m\u001b[0;34m\u001b[0m\u001b[0;34m\u001b[0m\u001b[0m\n\u001b[0;32m--> 727\u001b[0;31m             \u001b[0mresult\u001b[0m \u001b[0;34m=\u001b[0m \u001b[0mself\u001b[0m\u001b[0;34m.\u001b[0m\u001b[0mforward\u001b[0m\u001b[0;34m(\u001b[0m\u001b[0;34m*\u001b[0m\u001b[0minput\u001b[0m\u001b[0;34m,\u001b[0m \u001b[0;34m**\u001b[0m\u001b[0mkwargs\u001b[0m\u001b[0;34m)\u001b[0m\u001b[0;34m\u001b[0m\u001b[0;34m\u001b[0m\u001b[0m\n\u001b[0m\u001b[1;32m    728\u001b[0m         for hook in itertools.chain(\n\u001b[1;32m    729\u001b[0m                 \u001b[0m_global_forward_hooks\u001b[0m\u001b[0;34m.\u001b[0m\u001b[0mvalues\u001b[0m\u001b[0;34m(\u001b[0m\u001b[0;34m)\u001b[0m\u001b[0;34m,\u001b[0m\u001b[0;34m\u001b[0m\u001b[0;34m\u001b[0m\u001b[0m\n",
      "\u001b[0;32m/home/qiz/miniconda3/envs/xenonpy_ent/lib/python3.6/site-packages/onmt/decoders/transformer.py\u001b[0m in \u001b[0;36mforward\u001b[0;34m(self, tgt, memory_bank, step, **kwargs)\u001b[0m\n\u001b[1;32m    319\u001b[0m                 \u001b[0mlayer_cache\u001b[0m\u001b[0;34m=\u001b[0m\u001b[0mlayer_cache\u001b[0m\u001b[0;34m,\u001b[0m\u001b[0;34m\u001b[0m\u001b[0;34m\u001b[0m\u001b[0m\n\u001b[1;32m    320\u001b[0m                 \u001b[0mstep\u001b[0m\u001b[0;34m=\u001b[0m\u001b[0mstep\u001b[0m\u001b[0;34m,\u001b[0m\u001b[0;34m\u001b[0m\u001b[0;34m\u001b[0m\u001b[0m\n\u001b[0;32m--> 321\u001b[0;31m                 with_align=with_align)\n\u001b[0m\u001b[1;32m    322\u001b[0m             \u001b[0;32mif\u001b[0m \u001b[0mattn_align\u001b[0m \u001b[0;32mis\u001b[0m \u001b[0;32mnot\u001b[0m \u001b[0;32mNone\u001b[0m\u001b[0;34m:\u001b[0m\u001b[0;34m\u001b[0m\u001b[0;34m\u001b[0m\u001b[0m\n\u001b[1;32m    323\u001b[0m                 \u001b[0mattn_aligns\u001b[0m\u001b[0;34m.\u001b[0m\u001b[0mappend\u001b[0m\u001b[0;34m(\u001b[0m\u001b[0mattn_align\u001b[0m\u001b[0;34m)\u001b[0m\u001b[0;34m\u001b[0m\u001b[0;34m\u001b[0m\u001b[0m\n",
      "\u001b[0;32m/home/qiz/miniconda3/envs/xenonpy_ent/lib/python3.6/site-packages/torch/nn/modules/module.py\u001b[0m in \u001b[0;36m_call_impl\u001b[0;34m(self, *input, **kwargs)\u001b[0m\n\u001b[1;32m    725\u001b[0m             \u001b[0mresult\u001b[0m \u001b[0;34m=\u001b[0m \u001b[0mself\u001b[0m\u001b[0;34m.\u001b[0m\u001b[0m_slow_forward\u001b[0m\u001b[0;34m(\u001b[0m\u001b[0;34m*\u001b[0m\u001b[0minput\u001b[0m\u001b[0;34m,\u001b[0m \u001b[0;34m**\u001b[0m\u001b[0mkwargs\u001b[0m\u001b[0;34m)\u001b[0m\u001b[0;34m\u001b[0m\u001b[0;34m\u001b[0m\u001b[0m\n\u001b[1;32m    726\u001b[0m         \u001b[0;32melse\u001b[0m\u001b[0;34m:\u001b[0m\u001b[0;34m\u001b[0m\u001b[0;34m\u001b[0m\u001b[0m\n\u001b[0;32m--> 727\u001b[0;31m             \u001b[0mresult\u001b[0m \u001b[0;34m=\u001b[0m \u001b[0mself\u001b[0m\u001b[0;34m.\u001b[0m\u001b[0mforward\u001b[0m\u001b[0;34m(\u001b[0m\u001b[0;34m*\u001b[0m\u001b[0minput\u001b[0m\u001b[0;34m,\u001b[0m \u001b[0;34m**\u001b[0m\u001b[0mkwargs\u001b[0m\u001b[0;34m)\u001b[0m\u001b[0;34m\u001b[0m\u001b[0;34m\u001b[0m\u001b[0m\n\u001b[0m\u001b[1;32m    728\u001b[0m         for hook in itertools.chain(\n\u001b[1;32m    729\u001b[0m                 \u001b[0m_global_forward_hooks\u001b[0m\u001b[0;34m.\u001b[0m\u001b[0mvalues\u001b[0m\u001b[0;34m(\u001b[0m\u001b[0;34m)\u001b[0m\u001b[0;34m,\u001b[0m\u001b[0;34m\u001b[0m\u001b[0;34m\u001b[0m\u001b[0m\n",
      "\u001b[0;32m/home/qiz/miniconda3/envs/xenonpy_ent/lib/python3.6/site-packages/onmt/decoders/transformer.py\u001b[0m in \u001b[0;36mforward\u001b[0;34m(self, *args, **kwargs)\u001b[0m\n\u001b[1;32m     91\u001b[0m         \"\"\"\n\u001b[1;32m     92\u001b[0m         \u001b[0mwith_align\u001b[0m \u001b[0;34m=\u001b[0m \u001b[0mkwargs\u001b[0m\u001b[0;34m.\u001b[0m\u001b[0mpop\u001b[0m\u001b[0;34m(\u001b[0m\u001b[0;34m'with_align'\u001b[0m\u001b[0;34m,\u001b[0m \u001b[0;32mFalse\u001b[0m\u001b[0;34m)\u001b[0m\u001b[0;34m\u001b[0m\u001b[0;34m\u001b[0m\u001b[0m\n\u001b[0;32m---> 93\u001b[0;31m         \u001b[0moutput\u001b[0m\u001b[0;34m,\u001b[0m \u001b[0mattns\u001b[0m \u001b[0;34m=\u001b[0m \u001b[0mself\u001b[0m\u001b[0;34m.\u001b[0m\u001b[0m_forward\u001b[0m\u001b[0;34m(\u001b[0m\u001b[0;34m*\u001b[0m\u001b[0margs\u001b[0m\u001b[0;34m,\u001b[0m \u001b[0;34m**\u001b[0m\u001b[0mkwargs\u001b[0m\u001b[0;34m)\u001b[0m\u001b[0;34m\u001b[0m\u001b[0;34m\u001b[0m\u001b[0m\n\u001b[0m\u001b[1;32m     94\u001b[0m         \u001b[0mtop_attn\u001b[0m \u001b[0;34m=\u001b[0m \u001b[0mattns\u001b[0m\u001b[0;34m[\u001b[0m\u001b[0;34m:\u001b[0m\u001b[0;34m,\u001b[0m \u001b[0;36m0\u001b[0m\u001b[0;34m,\u001b[0m \u001b[0;34m:\u001b[0m\u001b[0;34m,\u001b[0m \u001b[0;34m:\u001b[0m\u001b[0;34m]\u001b[0m\u001b[0;34m.\u001b[0m\u001b[0mcontiguous\u001b[0m\u001b[0;34m(\u001b[0m\u001b[0;34m)\u001b[0m\u001b[0;34m\u001b[0m\u001b[0;34m\u001b[0m\u001b[0m\n\u001b[1;32m     95\u001b[0m         \u001b[0mattn_align\u001b[0m \u001b[0;34m=\u001b[0m \u001b[0;32mNone\u001b[0m\u001b[0;34m\u001b[0m\u001b[0;34m\u001b[0m\u001b[0m\n",
      "\u001b[0;32m/home/qiz/miniconda3/envs/xenonpy_ent/lib/python3.6/site-packages/onmt/decoders/transformer.py\u001b[0m in \u001b[0;36m_forward\u001b[0;34m(self, inputs, memory_bank, src_pad_mask, tgt_pad_mask, layer_cache, step, future)\u001b[0m\n\u001b[1;32m    155\u001b[0m                                       \u001b[0mmask\u001b[0m\u001b[0;34m=\u001b[0m\u001b[0mdec_mask\u001b[0m\u001b[0;34m,\u001b[0m\u001b[0;34m\u001b[0m\u001b[0;34m\u001b[0m\u001b[0m\n\u001b[1;32m    156\u001b[0m                                       \u001b[0mlayer_cache\u001b[0m\u001b[0;34m=\u001b[0m\u001b[0mlayer_cache\u001b[0m\u001b[0;34m,\u001b[0m\u001b[0;34m\u001b[0m\u001b[0;34m\u001b[0m\u001b[0m\n\u001b[0;32m--> 157\u001b[0;31m                                       attn_type=\"self\")\n\u001b[0m\u001b[1;32m    158\u001b[0m         \u001b[0;32melif\u001b[0m \u001b[0misinstance\u001b[0m\u001b[0;34m(\u001b[0m\u001b[0mself\u001b[0m\u001b[0;34m.\u001b[0m\u001b[0mself_attn\u001b[0m\u001b[0;34m,\u001b[0m \u001b[0mAverageAttention\u001b[0m\u001b[0;34m)\u001b[0m\u001b[0;34m:\u001b[0m\u001b[0;34m\u001b[0m\u001b[0;34m\u001b[0m\u001b[0m\n\u001b[1;32m    159\u001b[0m             query, _ = self.self_attn(input_norm, mask=dec_mask,\n",
      "\u001b[0;32m/home/qiz/miniconda3/envs/xenonpy_ent/lib/python3.6/site-packages/torch/nn/modules/module.py\u001b[0m in \u001b[0;36m_call_impl\u001b[0;34m(self, *input, **kwargs)\u001b[0m\n\u001b[1;32m    725\u001b[0m             \u001b[0mresult\u001b[0m \u001b[0;34m=\u001b[0m \u001b[0mself\u001b[0m\u001b[0;34m.\u001b[0m\u001b[0m_slow_forward\u001b[0m\u001b[0;34m(\u001b[0m\u001b[0;34m*\u001b[0m\u001b[0minput\u001b[0m\u001b[0;34m,\u001b[0m \u001b[0;34m**\u001b[0m\u001b[0mkwargs\u001b[0m\u001b[0;34m)\u001b[0m\u001b[0;34m\u001b[0m\u001b[0;34m\u001b[0m\u001b[0m\n\u001b[1;32m    726\u001b[0m         \u001b[0;32melse\u001b[0m\u001b[0;34m:\u001b[0m\u001b[0;34m\u001b[0m\u001b[0;34m\u001b[0m\u001b[0m\n\u001b[0;32m--> 727\u001b[0;31m             \u001b[0mresult\u001b[0m \u001b[0;34m=\u001b[0m \u001b[0mself\u001b[0m\u001b[0;34m.\u001b[0m\u001b[0mforward\u001b[0m\u001b[0;34m(\u001b[0m\u001b[0;34m*\u001b[0m\u001b[0minput\u001b[0m\u001b[0;34m,\u001b[0m \u001b[0;34m**\u001b[0m\u001b[0mkwargs\u001b[0m\u001b[0;34m)\u001b[0m\u001b[0;34m\u001b[0m\u001b[0;34m\u001b[0m\u001b[0m\n\u001b[0m\u001b[1;32m    728\u001b[0m         for hook in itertools.chain(\n\u001b[1;32m    729\u001b[0m                 \u001b[0m_global_forward_hooks\u001b[0m\u001b[0;34m.\u001b[0m\u001b[0mvalues\u001b[0m\u001b[0;34m(\u001b[0m\u001b[0;34m)\u001b[0m\u001b[0;34m,\u001b[0m\u001b[0;34m\u001b[0m\u001b[0;34m\u001b[0m\u001b[0m\n",
      "\u001b[0;32m/home/qiz/miniconda3/envs/xenonpy_ent/lib/python3.6/site-packages/onmt/modules/multi_headed_attn.py\u001b[0m in \u001b[0;36mforward\u001b[0;34m(self, key, value, query, mask, layer_cache, attn_type)\u001b[0m\n\u001b[1;32m    132\u001b[0m         \u001b[0;32mif\u001b[0m \u001b[0mlayer_cache\u001b[0m \u001b[0;32mis\u001b[0m \u001b[0;32mnot\u001b[0m \u001b[0;32mNone\u001b[0m\u001b[0;34m:\u001b[0m\u001b[0;34m\u001b[0m\u001b[0;34m\u001b[0m\u001b[0m\n\u001b[1;32m    133\u001b[0m             \u001b[0;32mif\u001b[0m \u001b[0mattn_type\u001b[0m \u001b[0;34m==\u001b[0m \u001b[0;34m\"self\"\u001b[0m\u001b[0;34m:\u001b[0m\u001b[0;34m\u001b[0m\u001b[0;34m\u001b[0m\u001b[0m\n\u001b[0;32m--> 134\u001b[0;31m                 \u001b[0mquery\u001b[0m\u001b[0;34m,\u001b[0m \u001b[0mkey\u001b[0m\u001b[0;34m,\u001b[0m \u001b[0mvalue\u001b[0m \u001b[0;34m=\u001b[0m \u001b[0mself\u001b[0m\u001b[0;34m.\u001b[0m\u001b[0mlinear_query\u001b[0m\u001b[0;34m(\u001b[0m\u001b[0mquery\u001b[0m\u001b[0;34m)\u001b[0m\u001b[0;34m,\u001b[0m\u001b[0;31m\\\u001b[0m\u001b[0;34m\u001b[0m\u001b[0;34m\u001b[0m\u001b[0m\n\u001b[0m\u001b[1;32m    135\u001b[0m                                     \u001b[0mself\u001b[0m\u001b[0;34m.\u001b[0m\u001b[0mlinear_keys\u001b[0m\u001b[0;34m(\u001b[0m\u001b[0mquery\u001b[0m\u001b[0;34m)\u001b[0m\u001b[0;34m,\u001b[0m\u001b[0;31m\\\u001b[0m\u001b[0;34m\u001b[0m\u001b[0;34m\u001b[0m\u001b[0m\n\u001b[1;32m    136\u001b[0m                                     \u001b[0mself\u001b[0m\u001b[0;34m.\u001b[0m\u001b[0mlinear_values\u001b[0m\u001b[0;34m(\u001b[0m\u001b[0mquery\u001b[0m\u001b[0;34m)\u001b[0m\u001b[0;34m\u001b[0m\u001b[0;34m\u001b[0m\u001b[0m\n",
      "\u001b[0;32m/home/qiz/miniconda3/envs/xenonpy_ent/lib/python3.6/site-packages/torch/nn/modules/module.py\u001b[0m in \u001b[0;36m_call_impl\u001b[0;34m(self, *input, **kwargs)\u001b[0m\n\u001b[1;32m    716\u001b[0m         for hook in itertools.chain(\n\u001b[1;32m    717\u001b[0m                 \u001b[0m_global_forward_pre_hooks\u001b[0m\u001b[0;34m.\u001b[0m\u001b[0mvalues\u001b[0m\u001b[0;34m(\u001b[0m\u001b[0;34m)\u001b[0m\u001b[0;34m,\u001b[0m\u001b[0;34m\u001b[0m\u001b[0;34m\u001b[0m\u001b[0m\n\u001b[0;32m--> 718\u001b[0;31m                 self._forward_pre_hooks.values()):\n\u001b[0m\u001b[1;32m    719\u001b[0m             \u001b[0mresult\u001b[0m \u001b[0;34m=\u001b[0m \u001b[0mhook\u001b[0m\u001b[0;34m(\u001b[0m\u001b[0mself\u001b[0m\u001b[0;34m,\u001b[0m \u001b[0minput\u001b[0m\u001b[0;34m)\u001b[0m\u001b[0;34m\u001b[0m\u001b[0;34m\u001b[0m\u001b[0m\n\u001b[1;32m    720\u001b[0m             \u001b[0;32mif\u001b[0m \u001b[0mresult\u001b[0m \u001b[0;32mis\u001b[0m \u001b[0;32mnot\u001b[0m \u001b[0;32mNone\u001b[0m\u001b[0;34m:\u001b[0m\u001b[0;34m\u001b[0m\u001b[0;34m\u001b[0m\u001b[0m\n",
      "\u001b[0;31mKeyboardInterrupt\u001b[0m: "
     ]
    }
   ],
   "source": [
    "SMC_instance()"
   ]
  },
  {
   "cell_type": "code",
   "execution_count": null,
   "id": "036a61ed-3545-4bf1-ba7d-c33b87d74611",
   "metadata": {},
   "outputs": [],
   "source": []
  }
 ],
 "metadata": {
  "kernelspec": {
   "display_name": "Python 3",
   "language": "python",
   "name": "python3"
  },
  "language_info": {
   "codemirror_mode": {
    "name": "ipython",
    "version": 3
   },
   "file_extension": ".py",
   "mimetype": "text/x-python",
   "name": "python",
   "nbconvert_exporter": "python",
   "pygments_lexer": "ipython3",
   "version": "3.6.12"
  }
 },
 "nbformat": 4,
 "nbformat_minor": 5
}
