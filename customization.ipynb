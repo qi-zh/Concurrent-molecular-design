{
 "cells": [
  {
   "cell_type": "markdown",
   "id": "6acf289a-35a7-45a0-afe0-17b87822a671",
   "metadata": {},
   "source": [
    "## Customize your reaction prediction module\n",
    "\n",
    "This tutorial provides a step-by-step introduciton about how to customize your own reaction prediction module in Seq-Stack-Reaction. A reaction prediction model takes a list of reactant sets which are represented as SMILES as input and output a list of products which also represented as SMILES. We use a dummy module to demonstrate the usage and implemention. You shall use your own module instead."
   ]
  },
  {
   "cell_type": "markdown",
   "id": "46c9fb47-191a-4e85-8093-8723ab079a05",
   "metadata": {},
   "source": [
    "### 1. Initialize parameters"
   ]
  },
  {
   "cell_type": "code",
   "execution_count": 1,
   "id": "f5ed1d9f-9ec7-4add-bf40-ad793bd68f25",
   "metadata": {},
   "outputs": [],
   "source": [
    "import json\n",
    "import pathlib\n",
    "from datetime import date\n",
    "from ssr import SMC\n",
    "import pandas as pd\n",
    "\n",
    "import warnings\n",
    "warnings.filterwarnings(\"ignore\")\n",
    "\n",
    "with open(\"./setting.json\") as f:\n",
    "    variables = json.load(f)\n",
    "variables[\"model_name\"] = \"SMC-RECUR_GTM\"\n",
    "main_path = variables[\"main_path\"]\n",
    "\n",
    "variables_addition = {\n",
    "    \"initial_pool_path\": main_path + \"data/pool.csv\",\n",
    "    \"gtm_path\": main_path + \"model/GTM/enamine_gtm\",\n",
    "    \"reactor_model_path\": main_path + \"model/molecular_transformer.pt\",\n",
    "    \"sample_column\": [\n",
    "        \"reactant\",\n",
    "        \"product\",\n",
    "        \"reactant_index\",\n",
    "        \"ll\",\n",
    "        \"surrogate_ll\",\n",
    "        \"c_label\",\n",
    "        \"freq\",\n",
    "        \"target\",\n",
    "        \"surrogate_target\",\n",
    "        \"is_new\",\n",
    "    ],\n",
    "    \"surrogate_forward_model_path\": {\n",
    "        \"qed\": main_path + \"model/QSPR/reactant_qed\",\n",
    "        \"logp\": main_path + \"model/QSPR/reactant_logp\",\n",
    "    },\n",
    "    \"forward_model_path\": {\n",
    "        \"qed\": main_path + \"model/QSPR/product_qed\",\n",
    "        \"logp\": main_path + \"model/QSPR/product_logp\",\n",
    "    },\n",
    "    \"unique_col\": \"reactant_index\",\n",
    "    \"black\": \"False\",\n",
    "}\n",
    "variables.update(variables_addition)\n",
    "\n",
    "\n",
    "variables[\"experiment_date\"] = str(date.today())\n",
    "variables[\"n_r\"] = variables[\"n_r\"] + 1\n",
    "\n",
    "\n",
    "\n",
    "for i in range(variables[\"n_r\"]):\n",
    "    variables[\"sample_column\"].append(\"r\" + str(i + 1))\n",
    "    variables[\"sample_column\"].append(\"r\" + str(i + 1) + \"_id\")\n",
    "    variables[\"sample_column\"].append(\"r\" + str(i + 1) + \"_gen\")\n",
    "    if i > 0:\n",
    "        variables[\"sample_column\"].append(\"p\" + str(i))\n",
    "for y in variables[\"y_list\"]:\n",
    "    variables[\"sample_column\"].append(y)\n",
    "    variables[\"sample_column\"].append(\"surrogate_\" + y)\n",
    "variables[\"generation_temperature\"] = -1 / variables[\"generation_threshold\"] * 2\n",
    "\n",
    "if variables[\"model_name\"] == \"SMC-RECUR_GTM\":\n",
    "    variables[\"SMC_reactor\"] = True\n",
    "    variables[\"surrogate\"] = False\n",
    "    variables[\"SMC_enrich\"] = True\n",
    "    variables[\"reactor_enrich\"] = False\n",
    "    variables[\"optimization\"] = True\n",
    "elif variables[\"model_name\"] == \"SMC-RECUR_GTM_SR_PL\":\n",
    "    variables[\"SMC_reactor\"] = False\n",
    "    variables[\"surrogate\"] = True\n",
    "    variables[\"SMC_enrich\"] = False\n",
    "    variables[\"reactor_enrich\"] = True\n",
    "    variables[\"optimization\"] = True\n",
    "elif variables[\"model_name\"][:-1] == \"SMC_\":\n",
    "    variables[\"SMC_reactor\"] = True\n",
    "    variables[\"surrogate\"] = False\n",
    "    variables[\"SMC_enrich\"] = False\n",
    "    variables[\"reactor_enrich\"] = False\n",
    "    variables[\"n_r\"] = int(variables[\"model_name\"][4:])\n",
    "    variables[\"optimization\"] = True\n",
    "elif variables[\"model_name\"] == \"Random\":\n",
    "    variables[\"SMC_reactor\"] = True\n",
    "    variables[\"surrogate\"] = False\n",
    "    variables[\"SMC_enrich\"] = False\n",
    "    variables[\"reactor_enrich\"] = False\n",
    "    variables[\"p_exploitation\"] = 0\n",
    "    variables[\"optimization\"] = False\n",
    "elif variables[\"model_name\"] == \"Random_RECUR\":\n",
    "    variables[\"SMC_reactor\"] = True\n",
    "    variables[\"surrogate\"] = False\n",
    "    variables[\"SMC_enrich\"] = True\n",
    "    variables[\"reactor_enrich\"] = False\n",
    "    variables[\"p_exploitation\"] = 0\n",
    "    variables[\"optimization\"] = False\n",
    "else:\n",
    "    raise Exception(\"wrong model name: {}\".format(variables[\"model_name\"]))\n",
    "\n",
    "model_result_path = (\n",
    "    main_path\n",
    "    + \"results/\"\n",
    "    + variables[\"experiment_date\"]\n",
    "    + \"/\"\n",
    "    + variables[\"model_name\"]\n",
    ")\n",
    "variables[\"model_df_path\"] = model_result_path + \"/dfs/\"\n",
    "if variables[\"reactor_enrich\"]:\n",
    "    variables[\"warehouse\"] = model_result_path + \"/warehouse\"\n",
    "    variables[\"warehouse_key\"] = variables[\"warehouse\"] + \"/key\"\n",
    "    pathlib.Path(variables[\"warehouse\"]).mkdir(parents=True, exist_ok=True)\n",
    "    open(variables[\"warehouse_key\"], \"a\").close()\n",
    "    variables[\"pool_folder\"] = model_result_path + \"/pool_folder\"\n",
    "    variables[\"pool_folder_key\"] = variables[\"pool_folder\"] + \"/key\"\n",
    "    variables[\"pool_updated_marker\"] = variables[\"pool_folder\"] + \"/updated_marker\"\n",
    "    variables[\"pool_updated_path\"] = variables[\"pool_folder\"] + \"/updated_pool.csv\"\n",
    "    pathlib.Path(variables[\"pool_folder\"]).mkdir(parents=True, exist_ok=True)\n",
    "    pathlib.Path(variables[\"pool_folder\"] + \"/addition\").mkdir(\n",
    "        parents=True, exist_ok=True\n",
    "    )\n",
    "    open(variables[\"pool_folder_key\"], \"a\").close()\n"
   ]
  },
  {
   "cell_type": "markdown",
   "id": "5363f830-8ffa-4e64-ac47-db867a22d295",
   "metadata": {},
   "source": [
    "### 2. Read reactant pool"
   ]
  },
  {
   "cell_type": "code",
   "execution_count": 2,
   "id": "1f473552-5d81-41c1-8858-1a4ebac37de3",
   "metadata": {},
   "outputs": [
    {
     "name": "stdout",
     "output_type": "stream",
     "text": [
      "SMC: initial pool size: 150549\n"
     ]
    }
   ],
   "source": [
    "initial_reactant_pool = pd.read_csv(variables[\"initial_pool_path\"])\n",
    "print(\"SMC: initial pool size: {}\".format(initial_reactant_pool.shape[0]))"
   ]
  },
  {
   "cell_type": "markdown",
   "id": "f567e6f2-ae35-473f-8d8c-e86a59a73b15",
   "metadata": {},
   "source": [
    "### 3. Define the reaction prediction module"
   ]
  },
  {
   "cell_type": "code",
   "execution_count": 4,
   "id": "c22c6d1f-6720-49ba-a603-34a7345738de",
   "metadata": {},
   "outputs": [],
   "source": [
    "import random\n",
    "class dummy_MolecularTransformer:\n",
    "    def react(self, reactant_list):\n",
    "        product_list = [random.choice(R.split(\".\")) for R in reactant_list]\n",
    "        return product_list    "
   ]
  },
  {
   "cell_type": "markdown",
   "id": "53969a01-d956-4e15-afcb-9bc0f745f87c",
   "metadata": {},
   "source": [
    "### 4. Plug the reaction prediction module into SMC"
   ]
  },
  {
   "cell_type": "code",
   "execution_count": 5,
   "id": "ad87876a-f693-46b7-aaa5-6ba32b02a966",
   "metadata": {},
   "outputs": [],
   "source": [
    "reactor = dummy_MolecularTransformer()\n",
    "SMC_instance = SMC(variables=variables, pool=initial_reactant_pool, reactor=reactor)\n",
    "SMC_instance()"
   ]
  },
  {
   "cell_type": "code",
   "execution_count": null,
   "id": "036a61ed-3545-4bf1-ba7d-c33b87d74611",
   "metadata": {},
   "outputs": [],
   "source": []
  }
 ],
 "metadata": {
  "kernelspec": {
   "display_name": "Python 3",
   "language": "python",
   "name": "python3"
  },
  "language_info": {
   "codemirror_mode": {
    "name": "ipython",
    "version": 3
   },
   "file_extension": ".py",
   "mimetype": "text/x-python",
   "name": "python",
   "nbconvert_exporter": "python",
   "pygments_lexer": "ipython3",
   "version": "3.6.12"
  }
 },
 "nbformat": 4,
 "nbformat_minor": 5
}
